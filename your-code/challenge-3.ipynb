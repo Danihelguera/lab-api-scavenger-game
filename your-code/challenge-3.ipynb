{
 "cells": [
  {
   "cell_type": "markdown",
   "id": "defensive-clock",
   "metadata": {},
   "source": [
    "# Challenge 3: Hidden Cold Joke\n",
    "\n",
    "Using Python, call Github API to find out the cold joke contained in the 24 secret files in the following repo:\n",
    "\n",
    "https://github.com/ironhack-datalabs/scavenger\n",
    "\n",
    "The filenames of the secret files contain .scavengerhunt and they are scattered in different directories of this repo. The secret files are named from .0001.scavengerhunt to .0024.scavengerhunt. They are scattered randomly throughout this repo. You need to search for these files by calling the Github API, not searching the local files on your computer.\n",
    "\n",
    "\n",
    "After you find out the secrete files:\n",
    "\n",
    "Sort the filenames ascendingly.\n",
    "\n",
    "Read the content of each secret files into an array of strings.\n",
    "\n",
    "Concatenate the strings in the array separating each two with a whitespace.\n",
    "\n",
    "Print out the joke."
   ]
  },
  {
   "cell_type": "markdown",
   "id": "universal-length",
   "metadata": {},
   "source": [
    "⚠️ **Remember to limit your output before submission**."
   ]
  },
  {
   "cell_type": "code",
   "execution_count": 1,
   "id": "toxic-trading",
   "metadata": {},
   "outputs": [
    {
     "data": {
      "text/plain": [
       "True"
      ]
     },
     "execution_count": 1,
     "metadata": {},
     "output_type": "execute_result"
    }
   ],
   "source": [
    "import json\n",
    "import requests\n",
    "import pandas as pd\n",
    "from pandas import json_normalize\n",
    "import os\n",
    "from dotenv import load_dotenv\n",
    "import datetime\n",
    "import re\n",
    "import base64\n",
    "\n",
    "load_dotenv()\n"
   ]
  },
  {
   "cell_type": "code",
   "execution_count": 2,
   "id": "b3544926",
   "metadata": {},
   "outputs": [],
   "source": [
    "def requestGithub(enlace):\n",
    "    github = os.getenv(\"github\")\n",
    "    if not github:\n",
    "        raise ValueError(\"OJOOO necesitas un token\")\n",
    "    print(f\"Estoy haciendo request a {enlace}\")\n",
    "    parametros = {\"Authorization\": f\"token {github}\"}\n",
    "    res = requests.get(enlace, params=parametros).json()\n",
    "    return res"
   ]
  },
  {
   "cell_type": "code",
   "execution_count": 3,
   "id": "static-stopping",
   "metadata": {},
   "outputs": [],
   "source": [
    "url = \"https://api.github.com/repos/ironhack-datalabs/scavenger/contents/\""
   ]
  },
  {
   "cell_type": "code",
   "execution_count": 4,
   "id": "eb5952c4",
   "metadata": {},
   "outputs": [
    {
     "name": "stdout",
     "output_type": "stream",
     "text": [
      "Estoy haciendo request a https://api.github.com/repos/ironhack-datalabs/scavenger/contents/\n"
     ]
    }
   ],
   "source": [
    "content_of_root = requestGithub(url)"
   ]
  },
  {
   "cell_type": "code",
   "execution_count": 5,
   "id": "b92d020f",
   "metadata": {},
   "outputs": [
    {
     "data": {
      "text/plain": [
       "{'message': \"API rate limit exceeded for 79.150.177.106. (But here's the good news: Authenticated requests get a higher rate limit. Check out the documentation for more details.)\",\n",
       " 'documentation_url': 'https://docs.github.com/rest/overview/resources-in-the-rest-api#rate-limiting'}"
      ]
     },
     "execution_count": 5,
     "metadata": {},
     "output_type": "execute_result"
    }
   ],
   "source": [
    "content_of_root"
   ]
  },
  {
   "cell_type": "code",
   "execution_count": 9,
   "id": "4f419576",
   "metadata": {},
   "outputs": [
    {
     "data": {
      "text/plain": [
       "{'Date': 'Fri, 05 Nov 2021 03:25:45 GMT',\n",
       " 'Server': 'Varnish',\n",
       " 'Strict-Transport-Security': 'max-age=31536000; includeSubdomains; preload',\n",
       " 'X-Content-Type-Options': 'nosniff',\n",
       " 'X-Frame-Options': 'deny',\n",
       " 'X-XSS-Protection': '1; mode=block',\n",
       " 'Content-Security-Policy': \"default-src 'none'; style-src 'unsafe-inline'\",\n",
       " 'Access-Control-Allow-Origin': '*',\n",
       " 'Access-Control-Expose-Headers': 'ETag, Link, Location, Retry-After, X-GitHub-OTP, X-RateLimit-Limit, X-RateLimit-Remaining, X-RateLimit-Reset, X-RateLimit-Used, X-RateLimit-Resource, X-OAuth-Scopes, X-Accepted-OAuth-Scopes, X-Poll-Interval, X-GitHub-Media-Type, Deprecation, Sunset',\n",
       " 'Content-Type': 'application/json; charset=utf-8',\n",
       " 'Referrer-Policy': 'origin-when-cross-origin, strict-origin-when-cross-origin',\n",
       " 'X-GitHub-Media-Type': 'github.v3; format=json',\n",
       " 'X-RateLimit-Limit': '60',\n",
       " 'X-RateLimit-Remaining': '0',\n",
       " 'X-RateLimit-Reset': '1636083501',\n",
       " 'X-RateLimit-Resource': 'core',\n",
       " 'X-RateLimit-Used': '60',\n",
       " 'Content-Length': '280',\n",
       " 'X-GitHub-Request-Id': 'CC5F:190C:59D511:5CD0D7:6184A439'}"
      ]
     },
     "execution_count": 9,
     "metadata": {},
     "output_type": "execute_result"
    }
   ],
   "source": [
    "github = os.getenv(\"github\")\n",
    "parametros = {\"Authorization\": f\"token {github}\"}\n",
    "res = requests.get(url, params=parametros)\n",
    "dict(res.headers)"
   ]
  },
  {
   "cell_type": "code",
   "execution_count": null,
   "id": "5ac1945a",
   "metadata": {},
   "outputs": [],
   "source": [
    "dir_names = [url + \"/contents/\"+x['name'] for x in content_of_root ]"
   ]
  },
  {
   "cell_type": "code",
   "execution_count": null,
   "id": "ff2dccde",
   "metadata": {},
   "outputs": [],
   "source": [
    "dir_names = dir_names[1:]"
   ]
  },
  {
   "cell_type": "code",
   "execution_count": null,
   "id": "6228cbc1",
   "metadata": {
    "scrolled": true
   },
   "outputs": [],
   "source": [
    "list_of_files_in_all_dirs = [requestGithub(enlace) for enlace in dir_names]"
   ]
  },
  {
   "cell_type": "code",
   "execution_count": null,
   "id": "91bad394",
   "metadata": {
    "scrolled": true
   },
   "outputs": [],
   "source": [
    "#list_of_files_in_all_dirs"
   ]
  },
  {
   "cell_type": "code",
   "execution_count": null,
   "id": "2b62fd48",
   "metadata": {},
   "outputs": [],
   "source": [
    "list_of_only_secretfiles = [ y for x in list_of_files_in_all_dirs for y in x\n",
    "                            if bool(re.search(r'.\\d{4}.scavengerhunt'  ,   y['name']   ))]"
   ]
  },
  {
   "cell_type": "code",
   "execution_count": null,
   "id": "d618ac73",
   "metadata": {},
   "outputs": [],
   "source": [
    "list_of_secretfiles_ordered = []\n",
    "for busqueda in range(1,25):\n",
    "    for i in list_of_only_secretfiles :\n",
    "        if str(busqueda).zfill(4) in i['name'] :\n",
    "            list_of_secretfiles_ordered.append(i)\n",
    "            print(i['url'])\n",
    "            break    "
   ]
  },
  {
   "cell_type": "code",
   "execution_count": null,
   "id": "3b048dce",
   "metadata": {},
   "outputs": [],
   "source": [
    "content_of_secretfiles = [requestGithub(enlace['url']) for enlace in list_of_secretfiles_ordered]"
   ]
  },
  {
   "cell_type": "code",
   "execution_count": null,
   "id": "0d510b40",
   "metadata": {},
   "outputs": [],
   "source": [
    "cold_joke = [ secretfile['content'] for secretfile in content_of_secretfiles]\n",
    "cold_joke\n"
   ]
  },
  {
   "cell_type": "code",
   "execution_count": null,
   "id": "bbb98041",
   "metadata": {},
   "outputs": [],
   "source": [
    "cold_joke_translated = [base64.b64decode(c).decode(\"utf-8\")  for c in cold_joke]\n",
    "cold_joke_translated"
   ]
  },
  {
   "cell_type": "code",
   "execution_count": null,
   "id": "3749fdf9",
   "metadata": {},
   "outputs": [],
   "source": [
    "cold_joke_translated = \" \".join(cold_joke_translated)\n",
    "cold_joke_translated.replace(\"\\n\", \"\")"
   ]
  }
 ],
 "metadata": {
  "kernelspec": {
   "display_name": "ironhack",
   "language": "python",
   "name": "ironhack"
  },
  "language_info": {
   "codemirror_mode": {
    "name": "ipython",
    "version": 3
   },
   "file_extension": ".py",
   "mimetype": "text/x-python",
   "name": "python",
   "nbconvert_exporter": "python",
   "pygments_lexer": "ipython3",
   "version": "3.8.5"
  },
  "toc": {
   "base_numbering": 1,
   "nav_menu": {},
   "number_sections": true,
   "sideBar": true,
   "skip_h1_title": true,
   "title_cell": "Table of Contents",
   "title_sidebar": "Contents",
   "toc_cell": false,
   "toc_position": {},
   "toc_section_display": true,
   "toc_window_display": true
  }
 },
 "nbformat": 4,
 "nbformat_minor": 5
}
